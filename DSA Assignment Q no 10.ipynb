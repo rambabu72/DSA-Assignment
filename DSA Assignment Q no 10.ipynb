{
 "cells": [
  {
   "cell_type": "markdown",
   "id": "b87f3628",
   "metadata": {},
   "source": [
    "# Q10. Write a program to find the smallest number using a stack."
   ]
  },
  {
   "cell_type": "code",
   "execution_count": null,
   "id": "b7fa2bfd",
   "metadata": {},
   "outputs": [],
   "source": []
  },
  {
   "cell_type": "code",
   "execution_count": 3,
   "id": "22bf146e",
   "metadata": {},
   "outputs": [
    {
     "name": "stdout",
     "output_type": "stream",
     "text": [
      "How many numbers: 5\n",
      "Enter number: 20\n",
      "Enter number: 10\n",
      "Enter number: 50\n",
      "Enter number: 80\n",
      "Enter number: 60\n",
      "Smallest number in the list is :   10\n"
     ]
    }
   ],
   "source": [
    "First = []\n",
    "num = int(input('How many numbers: '))\n",
    "\n",
    "for n in range(num):\n",
    "    numbers = int(input('Enter number: '))\n",
    "    First.append(numbers)\n",
    "    \n",
    "print(\"Smallest number in the list is :  \", min(First))"
   ]
  },
  {
   "cell_type": "code",
   "execution_count": null,
   "id": "d9f503e1",
   "metadata": {},
   "outputs": [],
   "source": []
  }
 ],
 "metadata": {
  "kernelspec": {
   "display_name": "Python 3 (ipykernel)",
   "language": "python",
   "name": "python3"
  },
  "language_info": {
   "codemirror_mode": {
    "name": "ipython",
    "version": 3
   },
   "file_extension": ".py",
   "mimetype": "text/x-python",
   "name": "python",
   "nbconvert_exporter": "python",
   "pygments_lexer": "ipython3",
   "version": "3.9.7"
  }
 },
 "nbformat": 4,
 "nbformat_minor": 5
}
