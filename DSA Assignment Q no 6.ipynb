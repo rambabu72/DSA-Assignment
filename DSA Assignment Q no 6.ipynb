{
 "cells": [
  {
   "cell_type": "markdown",
   "id": "00c895ff",
   "metadata": {},
   "source": [
    "#  Read about infix, prefix, and postfix expressions. Write a program to convert postfix to prefix expression."
   ]
  },
  {
   "cell_type": "code",
   "execution_count": null,
   "id": "53f0e7f2",
   "metadata": {},
   "outputs": [],
   "source": []
  },
  {
   "cell_type": "code",
   "execution_count": 2,
   "id": "ce31baf3",
   "metadata": {},
   "outputs": [
    {
     "name": "stdout",
     "output_type": "stream",
     "text": [
      "Prefix :  +AB-CD\n"
     ]
    }
   ],
   "source": [
    "def isOperator(x):\n",
    "\n",
    "    if x == \"+\":\n",
    "        return True\n",
    "\n",
    "    if x == \"-\":\n",
    "        return True\n",
    "\n",
    "    if x == \"/\":\n",
    "        return True\n",
    "\n",
    "    if x == \"*\":\n",
    "        return True\n",
    "\n",
    "    return False\n",
    "\n",
    "def postToPre(post_exp):\n",
    "\n",
    "    s = []\n",
    "\n",
    "    length = len(post_exp)\n",
    "\n",
    "    for i in range(length):\n",
    "\n",
    "        if (isOperator(post_exp[i])):\n",
    "\n",
    "            op1 = s[-1]\n",
    "            s.pop()\n",
    "            op2 = s[-1]\n",
    "            s.pop()\n",
    "\n",
    "            temp = post_exp[i] + op2 + op1\n",
    "\n",
    "            s.append(temp)\n",
    "\n",
    "        else:\n",
    "\n",
    "            s.append(post_exp[i])\n",
    "\n",
    "    ans = \"\"\n",
    "    for i in s:\n",
    "        ans += i\n",
    "    return ans\n",
    "\n",
    "if __name__ == \"__main__\":\n",
    "\n",
    "    post_exp = \"AB+CD-\"\n",
    "\n",
    "    print(\"Prefix : \", postToPre(post_exp))"
   ]
  },
  {
   "cell_type": "code",
   "execution_count": null,
   "id": "20a69e27",
   "metadata": {},
   "outputs": [],
   "source": []
  }
 ],
 "metadata": {
  "kernelspec": {
   "display_name": "Python 3 (ipykernel)",
   "language": "python",
   "name": "python3"
  },
  "language_info": {
   "codemirror_mode": {
    "name": "ipython",
    "version": 3
   },
   "file_extension": ".py",
   "mimetype": "text/x-python",
   "name": "python",
   "nbconvert_exporter": "python",
   "pygments_lexer": "ipython3",
   "version": "3.9.7"
  }
 },
 "nbformat": 4,
 "nbformat_minor": 5
}
