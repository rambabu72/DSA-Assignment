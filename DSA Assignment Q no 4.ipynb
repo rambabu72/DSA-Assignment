{
 "cells": [
  {
   "cell_type": "markdown",
   "id": "65603c9f",
   "metadata": {},
   "source": [
    "# Q4. Write a program to print the first non-repeated character from a string?"
   ]
  },
  {
   "cell_type": "code",
   "execution_count": 2,
   "id": "acdd4b22",
   "metadata": {},
   "outputs": [
    {
     "name": "stdout",
     "output_type": "stream",
     "text": [
      ">>>Edyoda\n",
      "the first founded string variable is:  E\n"
     ]
    }
   ],
   "source": [
    "str1 = input(\">>>\" )\n",
    "found = None\n",
    "\n",
    "for i in str1:\n",
    "    if (str1.count(i) == 1):\n",
    "        print(\"the first founded string variable is: \",i)\n",
    "        found = True\n",
    "        break\n",
    "\n",
    "if (found == False):\n",
    "    print(\"there is non repeating char in str1\")"
   ]
  },
  {
   "cell_type": "code",
   "execution_count": 5,
   "id": "1f5e48e9",
   "metadata": {},
   "outputs": [
    {
     "name": "stdout",
     "output_type": "stream",
     "text": [
      "1st non-repeating character is: R\n"
     ]
    }
   ],
   "source": [
    "NO_OF_CHARS = 256\n",
    "\n",
    "def getCharCountArray(string):\n",
    "    count = [0] * NO_OF_CHARS\n",
    "    for i in string:\n",
    "        count[ord(i)]+= 1\n",
    "    return count\n",
    "\n",
    "def firstNonRepeating(string):\n",
    "    count = getCharCountArray(string)\n",
    "    index = -1\n",
    "    k = 0\n",
    "\n",
    "    for i in string:\n",
    "        if count[ord(i)] == 1:\n",
    "            index = k\n",
    "            break\n",
    "        k += 1\n",
    "\n",
    "    return index\n",
    "\n",
    "string = \"Rambabu\"\n",
    "index = firstNonRepeating(string)\n",
    "if index == 1:\n",
    "    print (\"Either all characters are repeating or string is empty\")\n",
    "else:\n",
    "    print (\"1st non-repeating character is: \" + string[index])"
   ]
  },
  {
   "cell_type": "code",
   "execution_count": null,
   "id": "900192f8",
   "metadata": {},
   "outputs": [],
   "source": []
  }
 ],
 "metadata": {
  "kernelspec": {
   "display_name": "Python 3 (ipykernel)",
   "language": "python",
   "name": "python3"
  },
  "language_info": {
   "codemirror_mode": {
    "name": "ipython",
    "version": 3
   },
   "file_extension": ".py",
   "mimetype": "text/x-python",
   "name": "python",
   "nbconvert_exporter": "python",
   "pygments_lexer": "ipython3",
   "version": "3.9.7"
  }
 },
 "nbformat": 4,
 "nbformat_minor": 5
}
