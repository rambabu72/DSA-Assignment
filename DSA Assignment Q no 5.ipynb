{
 "cells": [
  {
   "cell_type": "markdown",
   "id": "ee3589b4",
   "metadata": {},
   "source": [
    "# Q5. Read about the Tower of Hanoi algorithm. Write a program to implement it."
   ]
  },
  {
   "cell_type": "code",
   "execution_count": 2,
   "id": "871ad0e0",
   "metadata": {},
   "outputs": [
    {
     "name": "stdout",
     "output_type": "stream",
     "text": [
      "Move disk 1 from rod A to rod B\n",
      "Move disk 2 from rod A to rod C\n",
      "Move disk 1 from rod B to rod C\n",
      "Move disk 3 from rod A to rod B\n",
      "Move disk 1 from rod C to rod A\n",
      "Move disk 2 from rod C to rod B\n",
      "Move disk 1 from rod A to rod B\n",
      "Move disk 4 from rod A to rod C\n",
      "Move disk 1 from rod B to rod C\n",
      "Move disk 2 from rod B to rod A\n",
      "Move disk 1 from rod C to rod A\n",
      "Move disk 3 from rod B to rod C\n",
      "Move disk 1 from rod A to rod B\n",
      "Move disk 2 from rod A to rod C\n",
      "Move disk 1 from rod B to rod C\n"
     ]
    }
   ],
   "source": [
    "def TowerOfHanoi(n , from_rod, to_rod, aux_rod):\n",
    "    if n == 1:\n",
    "        print(\"Move disk 1 from rod\",from_rod,\"to rod\",to_rod)\n",
    "        return\n",
    "    TowerOfHanoi(n-1, from_rod, aux_rod, to_rod)\n",
    "    print(\"Move disk\",n,\"from rod\",from_rod,\"to rod\",to_rod)\n",
    "    TowerOfHanoi(n-1, aux_rod, to_rod, from_rod)\n",
    "    \n",
    "n = 4\n",
    "TowerOfHanoi(n, 'A', 'C', 'B')"
   ]
  },
  {
   "cell_type": "code",
   "execution_count": null,
   "id": "39860749",
   "metadata": {},
   "outputs": [],
   "source": []
  }
 ],
 "metadata": {
  "kernelspec": {
   "display_name": "Python 3 (ipykernel)",
   "language": "python",
   "name": "python3"
  },
  "language_info": {
   "codemirror_mode": {
    "name": "ipython",
    "version": 3
   },
   "file_extension": ".py",
   "mimetype": "text/x-python",
   "name": "python",
   "nbconvert_exporter": "python",
   "pygments_lexer": "ipython3",
   "version": "3.9.7"
  }
 },
 "nbformat": 4,
 "nbformat_minor": 5
}
