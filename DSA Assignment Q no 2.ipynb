{
 "cells": [
  {
   "cell_type": "markdown",
   "id": "16d9f1ac",
   "metadata": {},
   "source": [
    "# Q2. Write a program to reverse an array in place? In place means you cannot create a new array. You have to update the original array."
   ]
  },
  {
   "cell_type": "code",
   "execution_count": null,
   "id": "3c6af485",
   "metadata": {},
   "outputs": [],
   "source": []
  },
  {
   "cell_type": "code",
   "execution_count": 19,
   "id": "a7028f6e",
   "metadata": {},
   "outputs": [
    {
     "name": "stdout",
     "output_type": "stream",
     "text": [
      "[10, 20, 130, 40, 150, 80, 100]\n",
      "REVERSED ARRAY\n",
      "[100, 80, 150, 40, 130, 20, 10]\n"
     ]
    }
   ],
   "source": [
    "def ReverseArray(Array, first, last):\n",
    "    while first < last:\n",
    "        Array[first],Array[last] = Array[last],Array[first]\n",
    "        \n",
    "        first += 1\n",
    "        last -= 1\n",
    "        \n",
    "        \n",
    "Array = [10,20,130,40,150,80,100]\n",
    "print(Array)\n",
    "ReverseArray(Array, 0, 6)\n",
    "print(\"REVERSED ARRAY\")\n",
    "print(Array)"
   ]
  },
  {
   "cell_type": "code",
   "execution_count": 20,
   "id": "b44d9341",
   "metadata": {},
   "outputs": [
    {
     "name": "stdout",
     "output_type": "stream",
     "text": [
      "[10, 20, 130, 40, 150, 80, 100]\n",
      "REVERSED ARRAY\n",
      "[80, 150, 40, 130, 20, 10, 100]\n"
     ]
    }
   ],
   "source": [
    "def ReverseArray(Array, first, last):\n",
    "    while first < last:\n",
    "        Array[first],Array[last] = Array[last],Array[first]\n",
    "        \n",
    "        first += 1\n",
    "        last -= 1\n",
    "        \n",
    "        \n",
    "Array = [10,20,130,40,150,80,100]\n",
    "print(Array)\n",
    "ReverseArray(Array, 0, 5)\n",
    "print(\"REVERSED ARRAY\")\n",
    "print(Array)"
   ]
  },
  {
   "cell_type": "code",
   "execution_count": 2,
   "id": "4938a448",
   "metadata": {},
   "outputs": [
    {
     "data": {
      "text/plain": [
       "[9, 8, 6, 5, 1]"
      ]
     },
     "execution_count": 2,
     "metadata": {},
     "output_type": "execute_result"
    }
   ],
   "source": [
    "def Array(array):\n",
    "    return array[::-1]\n",
    "array = [1,5,6,8,9]\n",
    "Array(array)"
   ]
  },
  {
   "cell_type": "code",
   "execution_count": null,
   "id": "00dec562",
   "metadata": {},
   "outputs": [],
   "source": []
  },
  {
   "cell_type": "code",
   "execution_count": null,
   "id": "185d0cc3",
   "metadata": {},
   "outputs": [],
   "source": []
  }
 ],
 "metadata": {
  "kernelspec": {
   "display_name": "Python 3 (ipykernel)",
   "language": "python",
   "name": "python3"
  },
  "language_info": {
   "codemirror_mode": {
    "name": "ipython",
    "version": 3
   },
   "file_extension": ".py",
   "mimetype": "text/x-python",
   "name": "python",
   "nbconvert_exporter": "python",
   "pygments_lexer": "ipython3",
   "version": "3.9.7"
  }
 },
 "nbformat": 4,
 "nbformat_minor": 5
}
